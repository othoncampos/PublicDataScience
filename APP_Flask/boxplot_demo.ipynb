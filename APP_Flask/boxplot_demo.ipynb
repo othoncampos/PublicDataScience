{
 "cells": [
  {
   "cell_type": "code",
   "execution_count": null,
   "metadata": {},
   "outputs": [],
   "source": [
    "%matplotlib inline"
   ]
  },
  {
   "cell_type": "markdown",
   "metadata": {},
   "source": [
    "\n",
    "# Boxplots\n",
    "\n",
    "\n",
    "Visualizing boxplots with matplotlib.\n",
    "\n",
    "The following examples show off how to visualize boxplots with\n",
    "Matplotlib. There are many options to control their appearance and\n",
    "the statistics that they use to summarize the data.\n",
    "\n",
    "\n"
   ]
  },
  {
   "cell_type": "code",
   "execution_count": 5,
   "metadata": {},
   "outputs": [
    {
     "name": "stdout",
     "output_type": "stream",
     "text": [
      "<class 'list'>\n"
     ]
    },
    {
     "data": {
      "image/png": "[encoded data removed]",
      "text/plain": [
       "<Figure size 432x288 with 6 Axes>"
      ]
     },
     "metadata": {
      "needs_background": "light"
     },
     "output_type": "display_data"
    },
    {
     "data": {
      "image/png": "[encoded data removed]",
      "text/plain": [
       "<Figure size 432x288 with 1 Axes>"
      ]
     },
     "metadata": {
      "needs_background": "light"
     },
     "output_type": "display_data"
    }
   ],
   "source": [
    "import matplotlib.pyplot as plt\n",
    "import numpy as np\n",
    "from matplotlib.patches import Polygon\n",
    "\n",
    "\n",
    "# Fixing random state for reproducibility\n",
    "np.random.seed(19680801)\n",
    "\n",
    "# fake up some data\n",
    "spread = np.random.rand(50) * 100\n",
    "center = np.ones(25) * 50\n",
    "flier_high = np.random.rand(10) * 100 + 100\n",
    "flier_low = np.random.rand(10) * -100\n",
    "data = np.concatenate((spread, center, flier_high, flier_low))\n",
    "\n",
    "fig, axs = plt.subplots(2, 3)\n",
    "\n",
    "# basic plot\n",
    "axs[0, 0].boxplot(data)\n",
    "axs[0, 0].set_title('basic plot')\n",
    "\n",
    "# notched plot\n",
    "axs[0, 1].boxplot(data, 1)\n",
    "axs[0, 1].set_title('notched plot')\n",
    "\n",
    "# change outlier point symbols\n",
    "axs[0, 2].boxplot(data, 0, 'gD')\n",
    "axs[0, 2].set_title('change outlier\\npoint symbols')\n",
    "\n",
    "# don't show outlier points\n",
    "axs[1, 0].boxplot(data, 0, '')\n",
    "axs[1, 0].set_title(\"don't show\\noutlier points\")\n",
    "\n",
    "# horizontal boxes\n",
    "axs[1, 1].boxplot(data, 0, 'rs', 0)\n",
    "axs[1, 1].set_title('horizontal boxes')\n",
    "\n",
    "# change whisker length\n",
    "axs[1, 2].boxplot(data, 0, 'rs', 0, 0.75)\n",
    "axs[1, 2].set_title('change whisker length')\n",
    "\n",
    "fig.subplots_adjust(left=0.08, right=0.98, bottom=0.05, top=0.9,\n",
    "                    hspace=0.4, wspace=0.3)\n",
    "\n",
    "# fake up some more data\n",
    "spread = np.random.rand(50) * 100\n",
    "center = np.ones(25) * 40\n",
    "flier_high = np.random.rand(10) * 100 + 100\n",
    "flier_low = np.random.rand(10) * -100\n",
    "d2 = np.concatenate((spread, center, flier_high, flier_low))\n",
    "data.shape = (-1, 1)\n",
    "d2.shape = (-1, 1)\n",
    "# Making a 2-D array only works if all the columns are the\n",
    "# same length.  If they are not, then use a list instead.\n",
    "# This is actually more efficient because boxplot converts\n",
    "# a 2-D array into a list of vectors internally anyway.\n",
    "data = [data, d2, d2[::2, 0]]\n",
    "print( type(data))\n",
    "# Multiple box plots on one Axes\n",
    "fig, ax = plt.subplots()\n",
    "ax.boxplot(data)\n",
    "\n",
    "plt.show()"
   ]
  },
  {
   "cell_type": "markdown",
   "metadata": {},
   "source": [
    "Below we'll generate data from five different probability distributions,\n",
    "each with different characteristics. We want to play with how an IID\n",
    "bootstrap resample of the data preserves the distributional\n",
    "properties of the original sample, and a boxplot is one visual tool\n",
    "to make this assessment\n",
    "\n"
   ]
  },
  {
   "cell_type": "code",
   "execution_count": null,
   "metadata": {},
   "outputs": [],
   "source": [
    "numDists = 5\n",
    "randomDists = ['Normal(1,1)', ' Lognormal(1,1)', 'Exp(1)', 'Gumbel(6,4)',\n",
    "               'Triangular(2,9,11)']\n",
    "N = 500\n",
    "\n",
    "norm = np.random.normal(1, 1, N)\n",
    "logn = np.random.lognormal(1, 1, N)\n",
    "expo = np.random.exponential(1, N)\n",
    "gumb = np.random.gumbel(6, 4, N)\n",
    "tria = np.random.triangular(2, 9, 11, N)\n",
    "\n",
    "# Generate some random indices that we'll use to resample the original data\n",
    "# arrays. For code brevity, just use the same random indices for each array\n",
    "bootstrapIndices = np.random.random_integers(0, N - 1, N)\n",
    "normBoot = norm[bootstrapIndices]\n",
    "expoBoot = expo[bootstrapIndices]\n",
    "gumbBoot = gumb[bootstrapIndices]\n",
    "lognBoot = logn[bootstrapIndices]\n",
    "triaBoot = tria[bootstrapIndices]\n",
    "\n",
    "data = [norm, normBoot, logn, lognBoot, expo, expoBoot, gumb, gumbBoot,\n",
    "        tria, triaBoot]\n",
    "\n",
    "fig, ax1 = plt.subplots(figsize=(10, 6))\n",
    "fig.canvas.set_window_title('A Boxplot Example')\n",
    "fig.subplots_adjust(left=0.075, right=0.95, top=0.9, bottom=0.25)\n",
    "\n",
    "bp = ax1.boxplot(data, notch=0, sym='+', vert=1, whis=1.5)\n",
    "plt.setp(bp['boxes'], color='black')\n",
    "plt.setp(bp['whiskers'], color='black')\n",
    "plt.setp(bp['fliers'], color='red', marker='+')\n",
    "\n",
    "# Add a horizontal grid to the plot, but make it very light in color\n",
    "# so we can use it for reading data values but not be distracting\n",
    "ax1.yaxis.grid(True, linestyle='-', which='major', color='lightgrey',\n",
    "               alpha=0.5)\n",
    "\n",
    "# Hide these grid behind plot objects\n",
    "ax1.set_axisbelow(True)\n",
    "ax1.set_title('Comparison of IID Bootstrap Resampling Across Five Distributions')\n",
    "ax1.set_xlabel('Distribution')\n",
    "ax1.set_ylabel('Value')\n",
    "\n",
    "# Now fill the boxes with desired colors\n",
    "boxColors = ['darkkhaki', 'royalblue']\n",
    "numBoxes = numDists*2\n",
    "medians = list(range(numBoxes))\n",
    "for i in range(numBoxes):\n",
    "    box = bp['boxes'][i]\n",
    "    boxX = []\n",
    "    boxY = []\n",
    "    for j in range(5):\n",
    "        boxX.append(box.get_xdata()[j])\n",
    "        boxY.append(box.get_ydata()[j])\n",
    "    boxCoords = np.column_stack([boxX, boxY])\n",
    "    # Alternate between Dark Khaki and Royal Blue\n",
    "    k = i % 2\n",
    "    boxPolygon = Polygon(boxCoords, facecolor=boxColors[k])\n",
    "    ax1.add_patch(boxPolygon)\n",
    "    # Now draw the median lines back over what we just filled in\n",
    "    med = bp['medians'][i]\n",
    "    medianX = []\n",
    "    medianY = []\n",
    "    for j in range(2):\n",
    "        medianX.append(med.get_xdata()[j])\n",
    "        medianY.append(med.get_ydata()[j])\n",
    "        ax1.plot(medianX, medianY, 'k')\n",
    "        medians[i] = medianY[0]\n",
    "    # Finally, overplot the sample averages, with horizontal alignment\n",
    "    # in the center of each box\n",
    "    ax1.plot([np.average(med.get_xdata())], [np.average(data[i])],\n",
    "             color='w', marker='*', markeredgecolor='k')\n",
    "\n",
    "# Set the axes ranges and axes labels\n",
    "ax1.set_xlim(0.5, numBoxes + 0.5)\n",
    "top = 40\n",
    "bottom = -5\n",
    "ax1.set_ylim(bottom, top)\n",
    "ax1.set_xticklabels(np.repeat(randomDists, 2),\n",
    "                    rotation=45, fontsize=8)\n",
    "\n",
    "# Due to the Y-axis scale being different across samples, it can be\n",
    "# hard to compare differences in medians across the samples. Add upper\n",
    "# X-axis tick labels with the sample medians to aid in comparison\n",
    "# (just use two decimal places of precision)\n",
    "pos = np.arange(numBoxes) + 1\n",
    "upperLabels = [str(np.round(s, 2)) for s in medians]\n",
    "weights = ['bold', 'semibold']\n",
    "for tick, label in zip(range(numBoxes), ax1.get_xticklabels()):\n",
    "    k = tick % 2\n",
    "    ax1.text(pos[tick], top - (top*0.05), upperLabels[tick],\n",
    "             horizontalalignment='center', size='x-small', weight=weights[k],\n",
    "             color=boxColors[k])\n",
    "\n",
    "# Finally, add a basic legend\n",
    "fig.text(0.80, 0.08, str(N) + ' Random Numbers',\n",
    "         backgroundcolor=boxColors[0], color='black', weight='roman',\n",
    "         size='x-small')\n",
    "fig.text(0.80, 0.045, 'IID Bootstrap Resample',\n",
    "         backgroundcolor=boxColors[1],\n",
    "         color='white', weight='roman', size='x-small')\n",
    "fig.text(0.80, 0.015, '*', color='white', backgroundcolor='silver',\n",
    "         weight='roman', size='medium')\n",
    "fig.text(0.815, 0.013, ' Average Value', color='black', weight='roman',\n",
    "         size='x-small')\n",
    "\n",
    "plt.show()"
   ]
  },
  {
   "cell_type": "markdown",
   "metadata": {},
   "source": [
    "Here we write a custom function to bootstrap confidence intervals.\n",
    "We can then use the boxplot along with this function to show these intervals.\n",
    "\n"
   ]
  },
  {
   "cell_type": "code",
   "execution_count": 6,
   "metadata": {},
   "outputs": [
    {
     "data": {
      "image/png": "[encoded data removed]",
      "text/plain": [
       "<Figure size 432x288 with 1 Axes>"
      ]
     },
     "metadata": {
      "needs_background": "light"
     },
     "output_type": "display_data"
    }
   ],
   "source": [
    "def fakeBootStrapper(n):\n",
    "    '''\n",
    "    This is just a placeholder for the user's method of\n",
    "    bootstrapping the median and its confidence intervals.\n",
    "\n",
    "    Returns an arbitrary median and confidence intervals\n",
    "    packed into a tuple\n",
    "    '''\n",
    "    if n == 1:\n",
    "        med = 0.1\n",
    "        CI = (-0.25, 0.25)\n",
    "    else:\n",
    "        med = 0.2\n",
    "        CI = (-0.35, 0.50)\n",
    "\n",
    "    return med, CI\n",
    "\n",
    "inc = 0.1\n",
    "e1 = np.random.normal(0, 1, size=(500,))\n",
    "e2 = np.random.normal(0, 1, size=(500,))\n",
    "e3 = np.random.normal(0, 1 + inc, size=(500,))\n",
    "e4 = np.random.normal(0, 1 + 2*inc, size=(500,))\n",
    "\n",
    "treatments = [e1, e2, e3, e4]\n",
    "med1, CI1 = fakeBootStrapper(1)\n",
    "med2, CI2 = fakeBootStrapper(2)\n",
    "medians = [None, None, med1, med2]\n",
    "conf_intervals = [None, None, CI1, CI2]\n",
    "\n",
    "fig, ax = plt.subplots()\n",
    "pos = np.array(range(len(treatments))) + 1\n",
    "bp = ax.boxplot(treatments, sym='k+', positions=pos,\n",
    "                notch=1, bootstrap=5000,\n",
    "                usermedians=medians,\n",
    "                conf_intervals=conf_intervals)\n",
    "\n",
    "ax.set_xlabel('treatment')\n",
    "ax.set_ylabel('response')\n",
    "plt.setp(bp['whiskers'], color='k', linestyle='-')\n",
    "plt.setp(bp['fliers'], markersize=3.0)\n",
    "plt.show()"
   ]
  },
  {
   "cell_type": "code",
   "execution_count": null,
   "metadata": {},
   "outputs": [],
   "source": []
  }
 ],
 "metadata": {
  "kernelspec": {
   "display_name": "Python 3",
   "language": "python",
   "name": "python3"
  },
  "language_info": {
   "codemirror_mode": {
    "name": "ipython",
    "version": 3
   },
   "file_extension": ".py",
   "mimetype": "text/x-python",
   "name": "python",
   "nbconvert_exporter": "python",
   "pygments_lexer": "ipython3",
   "version": "3.7.1"
  }
 },
 "nbformat": 4,
 "nbformat_minor": 1
}
